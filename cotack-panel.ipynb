{
 "nbformat": 4,
 "nbformat_minor": 0,
 "metadata": {
  "colab": {
   "name": "Panel-v1.0.ipynb",
   "provenance": [],
   "collapsed_sections": [],
   "authorship_tag": "ABX9TyP8FggIB22dkKsRnHotlJ3+"
  },
  "kernelspec": {
   "name": "python3",
   "display_name": "Python 3"
  },
  "language_info": {
   "name": "python"
  }
 },
 "cells": [
  {
   "cell_type": "markdown",
   "source": [
    "**Cotack Panel Version 1.0**\n",
    "---\n",
    "\n",
    "**WARNING: DO NOT USE IT FOR ILLEGAL PURPOSES!**\n",
    "\n",
    "**We are not responsible for any damages caused by Cotack.**\n",
    "\n"
   ],
   "metadata": {
    "id": "9zHajMpsx7cg",
    "pycharm": {
     "name": "#%% md\n"
    }
   }
  },
  {
   "cell_type": "code",
   "source": [
    "#@title Start it first before running.[PIP-Installon]\n",
    "import os\n",
    "os.system(\"wget https://raw.githubusercontent.com/MatrixTM/MHDDoS/main/requirements.txt\")\n",
    "os.system(\"wget https://raw.githubusercontent.com/MatrixTM/MHDDoS/main/config.json\")\n",
    "os.system(\"wget https://raw.githubusercontent.com/MatrixTM/MHDDoS/main/start.py\")\n",
    "os.system(\"wget -P ./files https://raw.githubusercontent.com/MatrixTM/MHDDoS/main/files/referers.txt\")\n",
    "os.system(\"wget -P ./files https://raw.githubusercontent.com/MatrixTM/MHDDoS/main/files/useragent.txt\")\n",
    "os.system(\"wget -P ./files/proxies/ https://raw.githubusercontent.com/MatrixTM/MHDDoS/main/files/proxies/http.txt\")\n",
    "os.system(\"pip install -r requirements.txt\")\n",
    "print (\"Now Run Next Srcipt.\")"
   ],
   "metadata": {
    "colab": {
     "base_uri": "https://localhost:8080/"
    },
    "id": "_x-zi96FxZ5s",
    "executionInfo": {
     "status": "ok",
     "timestamp": 1658827187446,
     "user_tz": -480,
     "elapsed": 663,
     "user": {
      "displayName": "glut 410",
      "userId": "10311834057298077223"
     }
    },
    "outputId": "72c4f300-1572-43eb-cc2e-4c55b1b49033",
    "pycharm": {
     "name": "#%%\n"
    }
   },
   "execution_count": null,
   "outputs": [
    {
     "output_type": "stream",
     "name": "stdout",
     "text": [
      "Now Run Next Srcipt.\n"
     ]
    }
   ]
  },
  {
   "cell_type": "code",
   "source": [
    "#@title WHDDoS Script\n",
    "!python3 start.py"
   ],
   "metadata": {
    "colab": {
     "base_uri": "https://localhost:8080/"
    },
    "cellView": "form",
    "id": "3bWMH2n0x-cQ",
    "executionInfo": {
     "status": "error",
     "timestamp": 1658827195066,
     "user_tz": -480,
     "elapsed": 965,
     "user": {
      "displayName": "glut 410",
      "userId": "10311834057298077223"
     }
    },
    "outputId": "a3ddee79-092b-4557-dc6b-398789a7775c",
    "pycharm": {
     "name": "#%%\n"
    }
   },
   "execution_count": null,
   "outputs": [
    {
     "output_type": "error",
     "ename": "ModuleNotFoundError",
     "evalue": "ignored",
     "traceback": [
      "\u001B[1;31m---------------------------------------------------------------------------\u001B[0m",
      "\u001B[1;31mModuleNotFoundError\u001B[0m                       Traceback (most recent call last)",
      "Input \u001B[1;32mIn [2]\u001B[0m, in \u001B[0;36m<cell line: 29>\u001B[1;34m()\u001B[0m\n\u001B[0;32m     26\u001B[0m \u001B[38;5;28;01mfrom\u001B[39;00m \u001B[38;5;21;01murllib\u001B[39;00m \u001B[38;5;28;01mimport\u001B[39;00m parse\n\u001B[0;32m     27\u001B[0m \u001B[38;5;28;01mfrom\u001B[39;00m \u001B[38;5;21;01muuid\u001B[39;00m \u001B[38;5;28;01mimport\u001B[39;00m UUID, uuid4\n\u001B[1;32m---> 29\u001B[0m \u001B[38;5;28;01mfrom\u001B[39;00m \u001B[38;5;21;01mPyRoxy\u001B[39;00m \u001B[38;5;28;01mimport\u001B[39;00m Proxy, ProxyChecker, ProxyType, ProxyUtiles\n\u001B[0;32m     30\u001B[0m \u001B[38;5;28;01mfrom\u001B[39;00m \u001B[38;5;21;01mPyRoxy\u001B[39;00m \u001B[38;5;28;01mimport\u001B[39;00m Tools \u001B[38;5;28;01mas\u001B[39;00m ProxyTools\n\u001B[0;32m     31\u001B[0m \u001B[38;5;28;01mfrom\u001B[39;00m \u001B[38;5;21;01mcertifi\u001B[39;00m \u001B[38;5;28;01mimport\u001B[39;00m where\n",
      "\u001B[1;31mModuleNotFoundError\u001B[0m: No module named 'PyRoxy'"
     ]
    }
   ]
  }
 ]
}